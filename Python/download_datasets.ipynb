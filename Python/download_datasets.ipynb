{
 "cells": [
  {
   "cell_type": "markdown",
   "metadata": {},
   "source": [
    "# Datasets\n",
    "| Variable | Reference |\n",
    "| -------- | --------- |\n",
    "| TRM      | 🏦 [BanRep](https://www.banrep.gov.co/en/node/50244)|"
   ]
  },
  {
   "cell_type": "code",
   "execution_count": 38,
   "metadata": {},
   "outputs": [],
   "source": [
    "from fileinput import filename\n",
    "from inspect import classify_class_attrs\n",
    "from attr import field\n",
    "from datetime import date, datetime\n",
    "import requests\n",
    "from bs4 import BeautifulSoup\n",
    "import time\n",
    "import os\n",
    "import csv\n",
    "# Selenium\n",
    "from selenium import webdriver\n",
    "from selenium.webdriver.common.by import By\n",
    "\n",
    "# Heroku don't find elements.\n",
    "from selenium.webdriver.support import expected_conditions as EC\n",
    "from selenium.webdriver.support.ui import WebDriverWait\n",
    "\n",
    "# Move files.\n",
    "import shutil\n",
    "\n",
    "# Get OS.\n",
    "import platform\n",
    "\n",
    "# GLOBAL VARIABLES.\n",
    "# CHROME_DRIVER_PATH ='/opt/homebrew/bin/chromedriver'\n",
    "CHROME_DRIVER_PATH ='C:/mine_bin/chromedriver.exe'\n",
    "DATASETS = {\n",
    "    'BanRep' : 'https://www.banrep.gov.co/en/node/50244'\n",
    "}\n",
    "\n",
    "# Function that initialize a chromedriver and return it.\n",
    "def init_chromedriver(url, imp_wait=10):\n",
    "    driver = webdriver.Chrome(executable_path=CHROME_DRIVER_PATH)\n",
    "    driver.implicitly_wait(imp_wait)\n",
    "    driver.get(url)\n",
    "    driver.maximize_window()\n",
    "    return driver\n",
    "\n",
    "# Download the TRM dataset to the Datasets folder.\n",
    "def TRM():\n",
    "    # fet required paths depending on the operative system. ONLY apply for Juan's computers.\n",
    "    if platform.system() == 'Windows':\n",
    "        origin = 'C:/Users/USUARIO_PC/Downloads/1.1.1.TCM_Serie historica IQY.xlsx'\n",
    "        origin = r'C:\\Users\\USUARIO_PC\\Downloads\\1.1.1.TCM_Serie historica IQY.xlsx'\n",
    "        destiny = './TRM-Time_Series_Analysis_and_Forecasting/Datasets/TRM.xlsx'\n",
    "        destiny = r'C:\\Users\\USUARIO_PC\\OneDrive - Universidad EAFIT\\Windows_python\\TRM-Time_Series_Analysis_and_Forecasting\\Datasets\\TRM.xlsx'\n",
    "\n",
    "    elif platform.system() == 'Darwin':\n",
    "        origin = '/Users/juanrengifo101/Downloads/1.1.1.TCM_Serie historica IQY.xlsx'\n",
    "        destiny = './TRM-Time_Series_Analysis_and_Forecasting/Datasets/TRM.xlsx'\n",
    "    else:\n",
    "        print('Non-valid OS.')\n",
    "\n",
    "    # Init driver and download the information.\n",
    "    driver = init_chromedriver(datasets['BanRep'])\n",
    "    driver.find_element(By.XPATH, \"//a[text() = 'Serie histórica completa (desde 27/11/1991)']\").click()\n",
    "\n",
    "    # Wait until the file is download to quit the driver.\n",
    "    while not os.path.exists(origin):\n",
    "        time.sleep(1)\n",
    "    driver.quit()\n",
    "\n",
    "    # Move the file to the desired location.\n",
    "    shutil.move(origin, destiny)"
   ]
  },
  {
   "cell_type": "code",
   "execution_count": 39,
   "metadata": {},
   "outputs": [
    {
     "name": "stderr",
     "output_type": "stream",
     "text": [
      "C:\\Users\\USUARIO_PC\\AppData\\Local\\Temp\\ipykernel_16300\\3855073148.py:32: DeprecationWarning: executable_path has been deprecated, please pass in a Service object\n",
      "  driver = webdriver.Chrome(executable_path=CHROME_DRIVER_PATH)\n"
     ]
    }
   ],
   "source": [
    "TRM()"
   ]
  },
  {
   "cell_type": "code",
   "execution_count": 36,
   "metadata": {},
   "outputs": [
    {
     "data": {
      "text/plain": [
       "'C:\\\\Users\\\\USUARIO_PC\\\\Envs\\\\TRM-timeseries\\\\Scripts'"
      ]
     },
     "execution_count": 36,
     "metadata": {},
     "output_type": "execute_result"
    }
   ],
   "source": []
  },
  {
   "cell_type": "code",
   "execution_count": null,
   "metadata": {},
   "outputs": [],
   "source": []
  }
 ],
 "metadata": {
  "interpreter": {
   "hash": "7d93754bcbd107922498b31e77c75d8f7f02176a5acf5c7b68cd04402b881e1b"
  },
  "kernelspec": {
   "display_name": "Python 3.9.1 ('TRM-timeseries')",
   "language": "python",
   "name": "python3"
  },
  "language_info": {
   "codemirror_mode": {
    "name": "ipython",
    "version": 3
   },
   "file_extension": ".py",
   "mimetype": "text/x-python",
   "name": "python",
   "nbconvert_exporter": "python",
   "pygments_lexer": "ipython3",
   "version": "3.9.1"
  },
  "orig_nbformat": 4
 },
 "nbformat": 4,
 "nbformat_minor": 2
}
